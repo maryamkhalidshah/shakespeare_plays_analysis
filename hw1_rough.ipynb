{
 "cells": [
  {
   "cell_type": "markdown",
   "id": "ed0f6b6e",
   "metadata": {},
   "source": [
    "# <font color = 'royalblue'> <center> Homework: *State Your Assumptions*"
   ]
  },
  {
   "cell_type": "markdown",
   "id": "228aa5de",
   "metadata": {},
   "source": [
    "### Get the Data"
   ]
  },
  {
   "cell_type": "code",
   "execution_count": 1,
   "id": "5aca38bb",
   "metadata": {},
   "outputs": [
    {
     "name": "stdout",
     "output_type": "stream",
     "text": [
      "First Citizen:\n",
      "Before we proceed any further, hear me speak.\n",
      "\n",
      "All:\n",
      "Speak, speak.\n",
      "\n",
      "First Citizen:\n",
      "You are all resolved rather to die than to famish?\n",
      "\n",
      "All:\n",
      "Resolved. resolved.\n",
      "\n",
      "First Citizen:\n",
      "First, you know Caius Marcius is chief enemy to the people.\n",
      "\n"
     ]
    }
   ],
   "source": [
    "# load packages\n",
    "from dvc.api import read,get_url\n",
    "import pandas as pd\n",
    "import re\n",
    "\n",
    "# store text file\n",
    "txt = read('resources/data/shakespeare/shakespeare.txt', \n",
    "           repo='https://github.com/TLP-COI/text-data-course')\n",
    "\n",
    "# view\n",
    "print(txt[:250])"
   ]
  },
  {
   "cell_type": "markdown",
   "id": "b53e7d39",
   "metadata": {},
   "source": [
    "### Part 1\n",
    "\n",
    "Split the text file into a table, such that\n",
    "\n",
    "- each row is a single line of dialogue\n",
    "- there are columns for\n",
    "    - the speaker\n",
    "    - the line number\n",
    "    - the line dialogue (the text)\n",
    "\n",
    "Hint: you will need to use RegEx to do this rapidly. See the in-class \"markdown\" example!\n",
    "\n",
    "Question(s):\n",
    "\n",
    "What assumptions have you made about the text that allowed you to do this?"
   ]
  },
  {
   "cell_type": "code",
   "execution_count": 189,
   "id": "77f79bd9",
   "metadata": {},
   "outputs": [
    {
     "data": {
      "text/plain": [
       "0     First Citizen\n",
       "1               All\n",
       "2     First Citizen\n",
       "3               All\n",
       "4     First Citizen\n",
       "5               All\n",
       "6     First Citizen\n",
       "7               All\n",
       "8    Second Citizen\n",
       "9     First Citizen\n",
       "Name: speaker, dtype: object"
      ]
     },
     "execution_count": 189,
     "metadata": {},
     "output_type": "execute_result"
    }
   ],
   "source": [
    "# pattern to store speakers\n",
    "patt_speaker = re.compile(\n",
    "    \"([A-Z][\\w-]*(\\s[A-Z][\\w-]*)*)[$:][\\r\\n]\",\n",
    "    flags=re.S | re.M\n",
    ")\n",
    "\n",
    "# find matches\n",
    "speaker_matches = patt_speaker.findall(txt)\n",
    "\n",
    "# store in temporary dataframe\n",
    "speaker_df = pd.DataFrame.from_records(speaker_matches, columns=['speaker', 'temp'])\n",
    "\n",
    "# view\n",
    "speaker_df.speaker[:10]"
   ]
  },
  {
   "cell_type": "code",
   "execution_count": 196,
   "id": "d1f48740",
   "metadata": {},
   "outputs": [
    {
     "data": {
      "text/html": [
       "<div>\n",
       "<style scoped>\n",
       "    .dataframe tbody tr th:only-of-type {\n",
       "        vertical-align: middle;\n",
       "    }\n",
       "\n",
       "    .dataframe tbody tr th {\n",
       "        vertical-align: top;\n",
       "    }\n",
       "\n",
       "    .dataframe thead th {\n",
       "        text-align: right;\n",
       "    }\n",
       "</style>\n",
       "<table border=\"1\" class=\"dataframe\">\n",
       "  <thead>\n",
       "    <tr style=\"text-align: right;\">\n",
       "      <th></th>\n",
       "      <th>dialogue</th>\n",
       "      <th>speaker</th>\n",
       "    </tr>\n",
       "  </thead>\n",
       "  <tbody>\n",
       "    <tr>\n",
       "      <th>25</th>\n",
       "      <td>\\nWe cannot, sir, we are undone already.\\n\\n</td>\n",
       "      <td>MENENIUS:</td>\n",
       "    </tr>\n",
       "    <tr>\n",
       "      <th>26</th>\n",
       "      <td>\\nI tell you, friends, most charitable care\\nH...</td>\n",
       "      <td>First Citizen:</td>\n",
       "    </tr>\n",
       "    <tr>\n",
       "      <th>27</th>\n",
       "      <td>\\nCare for us! True, indeed! They ne'er cared ...</td>\n",
       "      <td>MENENIUS:</td>\n",
       "    </tr>\n",
       "    <tr>\n",
       "      <th>28</th>\n",
       "      <td>\\nEither you must\\nConfess yourselves wondrous...</td>\n",
       "      <td>First Citizen:</td>\n",
       "    </tr>\n",
       "    <tr>\n",
       "      <th>29</th>\n",
       "      <td>\\nWell, I'll hear it, sir: yet you must not th...</td>\n",
       "      <td>MENENIUS:</td>\n",
       "    </tr>\n",
       "    <tr>\n",
       "      <th>30</th>\n",
       "      <td>\\nThere was a time when all the body's members\\n</td>\n",
       "      <td>Rebell'd against the belly, thus accused it:</td>\n",
       "    </tr>\n",
       "  </tbody>\n",
       "</table>\n",
       "</div>"
      ],
      "text/plain": [
       "                                             dialogue  \\\n",
       "25       \\nWe cannot, sir, we are undone already.\\n\\n   \n",
       "26  \\nI tell you, friends, most charitable care\\nH...   \n",
       "27  \\nCare for us! True, indeed! They ne'er cared ...   \n",
       "28  \\nEither you must\\nConfess yourselves wondrous...   \n",
       "29  \\nWell, I'll hear it, sir: yet you must not th...   \n",
       "30   \\nThere was a time when all the body's members\\n   \n",
       "\n",
       "                                         speaker  \n",
       "25                                     MENENIUS:  \n",
       "26                                First Citizen:  \n",
       "27                                     MENENIUS:  \n",
       "28                                First Citizen:  \n",
       "29                                     MENENIUS:  \n",
       "30  Rebell'd against the belly, thus accused it:  "
      ]
     },
     "execution_count": 196,
     "metadata": {},
     "output_type": "execute_result"
    }
   ],
   "source": [
    "### this is not working \n",
    "\n",
    "# store pattern for dialogues\n",
    "patt_dialogue = re.compile(\n",
    "    \"^[^\\r\\n:-][^\\r\\n:]*:\\s*$\" \n",
    "    \"(.*?)\"\n",
    "    \"(?=^(^[^\\r\\n:-][^\\r\\n:]*:\\s*$)|\\Z)\", \n",
    "    flags = re.S | re.M\n",
    ")\n",
    "\n",
    "# find matches\n",
    "dialogue_matches = patt_dialogue.findall(txt)\n",
    "\n",
    "# store in temporary dataframe\n",
    "dialogues_df = pd.DataFrame.from_records(dialogue_matches, columns=['dialogue', 'speaker'])\n",
    "\n",
    "# check\n",
    "dialogues_df[25:31]"
   ]
  },
  {
   "cell_type": "code",
   "execution_count": null,
   "id": "1dac4eca",
   "metadata": {},
   "outputs": [],
   "source": [
    "re_newline = re.compile(r'\\n')\n",
    "\n",
    "# create list to store line numbers\n",
    "line_number = []\n",
    "\n",
    "# calculate and store line numbers of dialogues\n",
    "for m in patt_dialogue.finditer(txt):\n",
    "    start_line = len(re_newline.findall(txt, 0, m.start(1)))+1\n",
    "    line_number.append(start_line)"
   ]
  },
  {
   "cell_type": "code",
   "execution_count": null,
   "id": "904315e3",
   "metadata": {},
   "outputs": [],
   "source": []
  },
  {
   "cell_type": "code",
   "execution_count": null,
   "id": "8bd25c57",
   "metadata": {
    "scrolled": true
   },
   "outputs": [],
   "source": []
  }
 ],
 "metadata": {
  "kernelspec": {
   "display_name": "Python [conda env:test_env]",
   "language": "python",
   "name": "conda-env-test_env-py"
  },
  "language_info": {
   "codemirror_mode": {
    "name": "ipython",
    "version": 3
   },
   "file_extension": ".py",
   "mimetype": "text/x-python",
   "name": "python",
   "nbconvert_exporter": "python",
   "pygments_lexer": "ipython3",
   "version": "3.9.7"
  }
 },
 "nbformat": 4,
 "nbformat_minor": 5
}
