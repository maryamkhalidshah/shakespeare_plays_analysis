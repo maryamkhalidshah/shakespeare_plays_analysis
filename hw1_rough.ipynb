{
 "cells": [
  {
   "cell_type": "markdown",
   "id": "73902e50",
   "metadata": {},
   "source": [
    "# <font color = 'royalblue'> <center> Homework: *State Your Assumptions*"
   ]
  },
  {
   "cell_type": "markdown",
   "id": "3dc3eb09",
   "metadata": {},
   "source": [
    "### Get the Data"
   ]
  },
  {
   "cell_type": "code",
   "execution_count": 2,
   "id": "dcfff2bd",
   "metadata": {},
   "outputs": [
    {
     "name": "stdout",
     "output_type": "stream",
     "text": [
      "First Citizen:\n",
      "Before we proceed any further, hear me speak.\n",
      "\n",
      "All:\n",
      "Speak, speak.\n",
      "\n",
      "First Citizen:\n",
      "You are all resolved rather to die than to famish?\n",
      "\n",
      "All:\n",
      "Resolved. resolved.\n",
      "\n",
      "First Citizen:\n",
      "First, you know Caius Marcius is chief enemy to the people.\n",
      "\n"
     ]
    }
   ],
   "source": [
    "# load packages\n",
    "from dvc.api import read,get_url\n",
    "import pandas as pd\n",
    "import re\n",
    "\n",
    "# store text file\n",
    "txt = read('resources/data/shakespeare/shakespeare.txt', \n",
    "           repo='https://github.com/TLP-COI/text-data-course')\n",
    "\n",
    "# view\n",
    "print(txt[:250])"
   ]
  },
  {
   "cell_type": "markdown",
   "id": "12d9a905",
   "metadata": {},
   "source": [
    "### Part 1\n",
    "\n",
    "Split the text file into a table, such that\n",
    "\n",
    "- each row is a single line of dialogue\n",
    "- there are columns for\n",
    "    - the speaker\n",
    "    - the line number\n",
    "    - the line dialogue (the text)\n",
    "\n",
    "Hint: you will need to use RegEx to do this rapidly. See the in-class \"markdown\" example!\n",
    "\n",
    "Question(s):\n",
    "\n",
    "What assumptions have you made about the text that allowed you to do this?"
   ]
  },
  {
   "cell_type": "code",
   "execution_count": 3,
   "id": "f0dcb2a7",
   "metadata": {},
   "outputs": [],
   "source": [
    "########################"
   ]
  },
  {
   "cell_type": "markdown",
   "id": "b444ed61",
   "metadata": {},
   "source": [
    "The text is structured as follows:\n",
    "\n",
    "Speaker:\\nText\\nn\n",
    "\n",
    "Assumptions:\n",
    "- the speaker's name is always followed by a colon and a line break\n",
    "- the text (speaker's dialogue) comes after the colon and line break (after the speaker's name) and ends with double line breaks (/n/n)"
   ]
  },
  {
   "cell_type": "markdown",
   "id": "785c44b2",
   "metadata": {},
   "source": [
    "**Extract each dialogue spoken and the speaker's name i.e. 'speaker_name:\\ndialogue'**"
   ]
  },
  {
   "cell_type": "code",
   "execution_count": 4,
   "id": "9bdea35c",
   "metadata": {
    "scrolled": true
   },
   "outputs": [
    {
     "data": {
      "text/plain": [
       "7222"
      ]
     },
     "execution_count": 4,
     "metadata": {},
     "output_type": "execute_result"
    }
   ],
   "source": [
    "# split on double line breaks\n",
    "first_split = re.split(\"\\n\\n\", txt)\n",
    "\n",
    "# check length of list\n",
    "len(first_split)"
   ]
  },
  {
   "cell_type": "markdown",
   "id": "82aef7e9",
   "metadata": {},
   "source": [
    "**Separate speaker name and the dialogue**\n",
    "\n",
    "Assumption:<br>\n",
    "Speaker name is always followed by a colon. <br>\n",
    "Since each item in `first_split` contains the speaker's name and the dialogue spoken, splitting on the *first* colon in the string will separate the speaker name and the dialogue."
   ]
  },
  {
   "cell_type": "code",
   "execution_count": 5,
   "id": "c3612c80",
   "metadata": {},
   "outputs": [
    {
     "data": {
      "text/plain": [
       "7222"
      ]
     },
     "execution_count": 5,
     "metadata": {},
     "output_type": "execute_result"
    }
   ],
   "source": [
    "# create list to store split results\n",
    "second_split = []\n",
    "\n",
    "# iterate through each item in the list and split on the first colon\n",
    "for line in first_split:\n",
    "    second_split.append(line.split(\":\", 1))\n",
    "    \n",
    "# check length of list\n",
    "len(second_split)"
   ]
  },
  {
   "cell_type": "markdown",
   "id": "f0ab1627",
   "metadata": {},
   "source": [
    "#### Store speakers and dialogues"
   ]
  },
  {
   "cell_type": "code",
   "execution_count": 6,
   "id": "010f4f09",
   "metadata": {},
   "outputs": [],
   "source": [
    "# create list to store speakers\n",
    "speakers = []\n",
    "\n",
    "# iterate through each item in the list and select the speakers\n",
    "for line in range(len(second_split)):\n",
    "    speakers.append(second_split[line][0])"
   ]
  },
  {
   "cell_type": "code",
   "execution_count": 7,
   "id": "a78941f2",
   "metadata": {},
   "outputs": [],
   "source": [
    "# create list to store dialogues\n",
    "dialogues = []\n",
    "\n",
    "# iterate through each item in the list and select the dialogues\n",
    "for line in range(len(second_split)):\n",
    "    dialogues.append(second_split[line][1])"
   ]
  },
  {
   "cell_type": "code",
   "execution_count": 8,
   "id": "e4dfce4e",
   "metadata": {},
   "outputs": [
    {
     "data": {
      "text/html": [
       "<div>\n",
       "<style scoped>\n",
       "    .dataframe tbody tr th:only-of-type {\n",
       "        vertical-align: middle;\n",
       "    }\n",
       "\n",
       "    .dataframe tbody tr th {\n",
       "        vertical-align: top;\n",
       "    }\n",
       "\n",
       "    .dataframe thead th {\n",
       "        text-align: right;\n",
       "    }\n",
       "</style>\n",
       "<table border=\"1\" class=\"dataframe\">\n",
       "  <thead>\n",
       "    <tr style=\"text-align: right;\">\n",
       "      <th></th>\n",
       "      <th>speaker</th>\n",
       "      <th>dialogue</th>\n",
       "      <th>line_number</th>\n",
       "    </tr>\n",
       "  </thead>\n",
       "  <tbody>\n",
       "    <tr>\n",
       "      <th>0</th>\n",
       "      <td>First Citizen</td>\n",
       "      <td>\\nBefore we proceed any further, hear me speak.</td>\n",
       "      <td>1</td>\n",
       "    </tr>\n",
       "    <tr>\n",
       "      <th>1</th>\n",
       "      <td>All</td>\n",
       "      <td>\\nSpeak, speak.</td>\n",
       "      <td>2</td>\n",
       "    </tr>\n",
       "    <tr>\n",
       "      <th>2</th>\n",
       "      <td>First Citizen</td>\n",
       "      <td>\\nYou are all resolved rather to die than to f...</td>\n",
       "      <td>3</td>\n",
       "    </tr>\n",
       "    <tr>\n",
       "      <th>3</th>\n",
       "      <td>All</td>\n",
       "      <td>\\nResolved. resolved.</td>\n",
       "      <td>4</td>\n",
       "    </tr>\n",
       "    <tr>\n",
       "      <th>4</th>\n",
       "      <td>First Citizen</td>\n",
       "      <td>\\nFirst, you know Caius Marcius is chief enemy...</td>\n",
       "      <td>5</td>\n",
       "    </tr>\n",
       "  </tbody>\n",
       "</table>\n",
       "</div>"
      ],
      "text/plain": [
       "         speaker                                           dialogue  \\\n",
       "0  First Citizen    \\nBefore we proceed any further, hear me speak.   \n",
       "1            All                                    \\nSpeak, speak.   \n",
       "2  First Citizen  \\nYou are all resolved rather to die than to f...   \n",
       "3            All                              \\nResolved. resolved.   \n",
       "4  First Citizen  \\nFirst, you know Caius Marcius is chief enemy...   \n",
       "\n",
       "   line_number  \n",
       "0            1  \n",
       "1            2  \n",
       "2            3  \n",
       "3            4  \n",
       "4            5  "
      ]
     },
     "execution_count": 8,
     "metadata": {},
     "output_type": "execute_result"
    }
   ],
   "source": [
    "# create empty dataframe\n",
    "df = pd.DataFrame()\n",
    "\n",
    "# store speakers and dialogues in dataframe\n",
    "df['speaker']  = speakers\n",
    "df['dialogue'] = dialogues\n",
    "\n",
    "# add line number column starting from 1\n",
    "df['line_number'] = df.index + 1\n",
    "\n",
    "# view df\n",
    "df.head()"
   ]
  },
  {
   "cell_type": "markdown",
   "id": "9dd17568",
   "metadata": {},
   "source": [
    "### Part 2\n",
    "\n",
    "You have likely noticed that the lines are not all from the same play! Now, we will add some useful metadata to our table:\n",
    "\n",
    "- Determine a likely source title for each line\n",
    "- add the title as a 'play' column in the data table.\n",
    "- make sure to document your decisions, assumptions, external data sources, etc.\n",
    "\n",
    "This is fairly open-ended, and you are not being judged completely on accuracy. Instead, think outside the box a bit as to how you might accomplish this, and attempt to justify whatever approximations or assumptions you felt were appropriate.\n",
    "___"
   ]
  },
  {
   "cell_type": "markdown",
   "id": "6ae005f2",
   "metadata": {},
   "source": [
    "For the source title, I am going to use a Kaggle dataset (https://www.kaggle.com/kingburrito666/shakespeare-plays/version/4) on Shakespeare's plays (including character names and dialogues). "
   ]
  },
  {
   "cell_type": "code",
   "execution_count": 9,
   "id": "3d71618d",
   "metadata": {},
   "outputs": [
    {
     "data": {
      "text/html": [
       "<div>\n",
       "<style scoped>\n",
       "    .dataframe tbody tr th:only-of-type {\n",
       "        vertical-align: middle;\n",
       "    }\n",
       "\n",
       "    .dataframe tbody tr th {\n",
       "        vertical-align: top;\n",
       "    }\n",
       "\n",
       "    .dataframe thead th {\n",
       "        text-align: right;\n",
       "    }\n",
       "</style>\n",
       "<table border=\"1\" class=\"dataframe\">\n",
       "  <thead>\n",
       "    <tr style=\"text-align: right;\">\n",
       "      <th></th>\n",
       "      <th>Dataline</th>\n",
       "      <th>Play</th>\n",
       "      <th>PlayerLinenumber</th>\n",
       "      <th>ActSceneLine</th>\n",
       "      <th>Player</th>\n",
       "      <th>PlayerLine</th>\n",
       "    </tr>\n",
       "  </thead>\n",
       "  <tbody>\n",
       "    <tr>\n",
       "      <th>0</th>\n",
       "      <td>1</td>\n",
       "      <td>Henry IV</td>\n",
       "      <td>NaN</td>\n",
       "      <td>NaN</td>\n",
       "      <td>NaN</td>\n",
       "      <td>ACT I</td>\n",
       "    </tr>\n",
       "    <tr>\n",
       "      <th>1</th>\n",
       "      <td>2</td>\n",
       "      <td>Henry IV</td>\n",
       "      <td>NaN</td>\n",
       "      <td>NaN</td>\n",
       "      <td>NaN</td>\n",
       "      <td>SCENE I. London. The palace.</td>\n",
       "    </tr>\n",
       "    <tr>\n",
       "      <th>2</th>\n",
       "      <td>3</td>\n",
       "      <td>Henry IV</td>\n",
       "      <td>NaN</td>\n",
       "      <td>NaN</td>\n",
       "      <td>NaN</td>\n",
       "      <td>Enter KING HENRY, LORD JOHN OF LANCASTER, the ...</td>\n",
       "    </tr>\n",
       "    <tr>\n",
       "      <th>3</th>\n",
       "      <td>4</td>\n",
       "      <td>Henry IV</td>\n",
       "      <td>1.0</td>\n",
       "      <td>1.1.1</td>\n",
       "      <td>KING HENRY IV</td>\n",
       "      <td>So shaken as we are, so wan with care,</td>\n",
       "    </tr>\n",
       "    <tr>\n",
       "      <th>4</th>\n",
       "      <td>5</td>\n",
       "      <td>Henry IV</td>\n",
       "      <td>1.0</td>\n",
       "      <td>1.1.2</td>\n",
       "      <td>KING HENRY IV</td>\n",
       "      <td>Find we a time for frighted peace to pant,</td>\n",
       "    </tr>\n",
       "  </tbody>\n",
       "</table>\n",
       "</div>"
      ],
      "text/plain": [
       "   Dataline      Play  PlayerLinenumber ActSceneLine         Player  \\\n",
       "0         1  Henry IV               NaN          NaN            NaN   \n",
       "1         2  Henry IV               NaN          NaN            NaN   \n",
       "2         3  Henry IV               NaN          NaN            NaN   \n",
       "3         4  Henry IV               1.0        1.1.1  KING HENRY IV   \n",
       "4         5  Henry IV               1.0        1.1.2  KING HENRY IV   \n",
       "\n",
       "                                          PlayerLine  \n",
       "0                                              ACT I  \n",
       "1                       SCENE I. London. The palace.  \n",
       "2  Enter KING HENRY, LORD JOHN OF LANCASTER, the ...  \n",
       "3             So shaken as we are, so wan with care,  \n",
       "4         Find we a time for frighted peace to pant,  "
      ]
     },
     "execution_count": 9,
     "metadata": {},
     "output_type": "execute_result"
    }
   ],
   "source": [
    "# read in Shakespeare play data\n",
    "df_shakespeare = pd.read_csv('Shakespeare_data.csv')\n",
    "\n",
    "# view\n",
    "df_shakespeare.head()"
   ]
  },
  {
   "cell_type": "code",
   "execution_count": 10,
   "id": "6adbe1ac",
   "metadata": {},
   "outputs": [],
   "source": [
    "# make speaker names uppercase (in order to match) and store in df\n",
    "speaker_df = pd.DataFrame(df['speaker'].str.upper())\n",
    "df_shakespeare['Player'] = df_shakespeare['Player'].str.upper()\n",
    "\n",
    "# rename column to match shakespeare_df column name for speakers\n",
    "speaker_df.rename(columns = {'speaker':'Player'}, inplace = True)"
   ]
  },
  {
   "cell_type": "markdown",
   "id": "7432573b",
   "metadata": {},
   "source": [
    "I will get the list of plays of a specific speaker e.g. all plays with the speaker 'First Citizen'. Then I will select the most common play from this list as the source title/play. The assumption here is that the play in which a specific speaker/character had a lot of dialogues is the most likely source title for the dialogues by the speaker.  \n",
    "\n",
    "Limitation of this assumption: some dialogues may be from plays where the speaker has a minor part i.e. it may not be the most common play. "
   ]
  },
  {
   "cell_type": "code",
   "execution_count": 14,
   "id": "4f6ca97e",
   "metadata": {},
   "outputs": [
    {
     "data": {
      "text/plain": [
       "7222"
      ]
     },
     "execution_count": 14,
     "metadata": {},
     "output_type": "execute_result"
    }
   ],
   "source": [
    "# create empty list to store source titles\n",
    "plays = []\n",
    "\n",
    "# store the most common play for each speaker\n",
    "for i in range(len(speaker_df)):\n",
    "    plays_list = list(df_shakespeare.loc[df_shakespeare['Player'] == speaker_df.Player[i], 'Play'])\n",
    "    if len(plays_list) == 0:\n",
    "        plays.append('none')\n",
    "    else:\n",
    "        plays.append(max(set(plays_list), key = plays_list.count))\n",
    "    \n",
    "# check length of plays\n",
    "len(plays)"
   ]
  },
  {
   "cell_type": "code",
   "execution_count": 16,
   "id": "58073a40",
   "metadata": {},
   "outputs": [
    {
     "data": {
      "text/html": [
       "<div>\n",
       "<style scoped>\n",
       "    .dataframe tbody tr th:only-of-type {\n",
       "        vertical-align: middle;\n",
       "    }\n",
       "\n",
       "    .dataframe tbody tr th {\n",
       "        vertical-align: top;\n",
       "    }\n",
       "\n",
       "    .dataframe thead th {\n",
       "        text-align: right;\n",
       "    }\n",
       "</style>\n",
       "<table border=\"1\" class=\"dataframe\">\n",
       "  <thead>\n",
       "    <tr style=\"text-align: right;\">\n",
       "      <th></th>\n",
       "      <th>speaker</th>\n",
       "      <th>dialogue</th>\n",
       "      <th>line_number</th>\n",
       "      <th>play</th>\n",
       "    </tr>\n",
       "  </thead>\n",
       "  <tbody>\n",
       "    <tr>\n",
       "      <th>0</th>\n",
       "      <td>First Citizen</td>\n",
       "      <td>\\nBefore we proceed any further, hear me speak.</td>\n",
       "      <td>1</td>\n",
       "      <td>Coriolanus</td>\n",
       "    </tr>\n",
       "    <tr>\n",
       "      <th>1</th>\n",
       "      <td>All</td>\n",
       "      <td>\\nSpeak, speak.</td>\n",
       "      <td>2</td>\n",
       "      <td>macbeth</td>\n",
       "    </tr>\n",
       "    <tr>\n",
       "      <th>2</th>\n",
       "      <td>First Citizen</td>\n",
       "      <td>\\nYou are all resolved rather to die than to f...</td>\n",
       "      <td>3</td>\n",
       "      <td>Coriolanus</td>\n",
       "    </tr>\n",
       "    <tr>\n",
       "      <th>3</th>\n",
       "      <td>All</td>\n",
       "      <td>\\nResolved. resolved.</td>\n",
       "      <td>4</td>\n",
       "      <td>macbeth</td>\n",
       "    </tr>\n",
       "    <tr>\n",
       "      <th>4</th>\n",
       "      <td>First Citizen</td>\n",
       "      <td>\\nFirst, you know Caius Marcius is chief enemy...</td>\n",
       "      <td>5</td>\n",
       "      <td>Coriolanus</td>\n",
       "    </tr>\n",
       "    <tr>\n",
       "      <th>...</th>\n",
       "      <td>...</td>\n",
       "      <td>...</td>\n",
       "      <td>...</td>\n",
       "      <td>...</td>\n",
       "    </tr>\n",
       "    <tr>\n",
       "      <th>7217</th>\n",
       "      <td>ANTONIO</td>\n",
       "      <td>\\nNor I; my spirits are nimble.\\nThey fell tog...</td>\n",
       "      <td>7218</td>\n",
       "      <td>Merchant of Venice</td>\n",
       "    </tr>\n",
       "    <tr>\n",
       "      <th>7218</th>\n",
       "      <td>SEBASTIAN</td>\n",
       "      <td>\\nWhat, art thou waking?</td>\n",
       "      <td>7219</td>\n",
       "      <td>Twelfth Night</td>\n",
       "    </tr>\n",
       "    <tr>\n",
       "      <th>7219</th>\n",
       "      <td>ANTONIO</td>\n",
       "      <td>\\nDo you not hear me speak?</td>\n",
       "      <td>7220</td>\n",
       "      <td>Merchant of Venice</td>\n",
       "    </tr>\n",
       "    <tr>\n",
       "      <th>7220</th>\n",
       "      <td>SEBASTIAN</td>\n",
       "      <td>\\nI do; and surely\\nIt is a sleepy language an...</td>\n",
       "      <td>7221</td>\n",
       "      <td>Twelfth Night</td>\n",
       "    </tr>\n",
       "    <tr>\n",
       "      <th>7221</th>\n",
       "      <td>ANTONIO</td>\n",
       "      <td>\\nNoble Sebastian,\\nThou let'st thy fortune sl...</td>\n",
       "      <td>7222</td>\n",
       "      <td>Merchant of Venice</td>\n",
       "    </tr>\n",
       "  </tbody>\n",
       "</table>\n",
       "<p>7222 rows × 4 columns</p>\n",
       "</div>"
      ],
      "text/plain": [
       "            speaker                                           dialogue  \\\n",
       "0     First Citizen    \\nBefore we proceed any further, hear me speak.   \n",
       "1               All                                    \\nSpeak, speak.   \n",
       "2     First Citizen  \\nYou are all resolved rather to die than to f...   \n",
       "3               All                              \\nResolved. resolved.   \n",
       "4     First Citizen  \\nFirst, you know Caius Marcius is chief enemy...   \n",
       "...             ...                                                ...   \n",
       "7217        ANTONIO  \\nNor I; my spirits are nimble.\\nThey fell tog...   \n",
       "7218      SEBASTIAN                           \\nWhat, art thou waking?   \n",
       "7219        ANTONIO                        \\nDo you not hear me speak?   \n",
       "7220      SEBASTIAN  \\nI do; and surely\\nIt is a sleepy language an...   \n",
       "7221        ANTONIO  \\nNoble Sebastian,\\nThou let'st thy fortune sl...   \n",
       "\n",
       "      line_number                play  \n",
       "0               1          Coriolanus  \n",
       "1               2             macbeth  \n",
       "2               3          Coriolanus  \n",
       "3               4             macbeth  \n",
       "4               5          Coriolanus  \n",
       "...           ...                 ...  \n",
       "7217         7218  Merchant of Venice  \n",
       "7218         7219       Twelfth Night  \n",
       "7219         7220  Merchant of Venice  \n",
       "7220         7221       Twelfth Night  \n",
       "7221         7222  Merchant of Venice  \n",
       "\n",
       "[7222 rows x 4 columns]"
      ]
     },
     "execution_count": 16,
     "metadata": {},
     "output_type": "execute_result"
    }
   ],
   "source": [
    "# add 'play' column \n",
    "df['play'] = plays\n",
    "\n",
    "# view dataframe\n",
    "df"
   ]
  },
  {
   "cell_type": "code",
   "execution_count": 18,
   "id": "244f0ddc",
   "metadata": {
    "scrolled": true
   },
   "outputs": [
    {
     "data": {
      "text/html": [
       "<div>\n",
       "<style scoped>\n",
       "    .dataframe tbody tr th:only-of-type {\n",
       "        vertical-align: middle;\n",
       "    }\n",
       "\n",
       "    .dataframe tbody tr th {\n",
       "        vertical-align: top;\n",
       "    }\n",
       "\n",
       "    .dataframe thead th {\n",
       "        text-align: right;\n",
       "    }\n",
       "</style>\n",
       "<table border=\"1\" class=\"dataframe\">\n",
       "  <thead>\n",
       "    <tr style=\"text-align: right;\">\n",
       "      <th></th>\n",
       "      <th>speaker</th>\n",
       "      <th>dialogue</th>\n",
       "      <th>line_number</th>\n",
       "      <th>play</th>\n",
       "    </tr>\n",
       "  </thead>\n",
       "  <tbody>\n",
       "    <tr>\n",
       "      <th>530</th>\n",
       "      <td>Senators, &amp;C</td>\n",
       "      <td>\\nWe'll surety him.</td>\n",
       "      <td>531</td>\n",
       "      <td>none</td>\n",
       "    </tr>\n",
       "    <tr>\n",
       "      <th>538</th>\n",
       "      <td>Senators, &amp;C</td>\n",
       "      <td>\\nWeapons, weapons, weapons!\\n'Tribunes!' 'Pat...</td>\n",
       "      <td>539</td>\n",
       "      <td>none</td>\n",
       "    </tr>\n",
       "    <tr>\n",
       "      <th>2142</th>\n",
       "      <td>Ghost of Prince Edward</td>\n",
       "      <td></td>\n",
       "      <td>2143</td>\n",
       "      <td>none</td>\n",
       "    </tr>\n",
       "    <tr>\n",
       "      <th>2143</th>\n",
       "      <td>Ghost of King Henry VI</td>\n",
       "      <td></td>\n",
       "      <td>2144</td>\n",
       "      <td>none</td>\n",
       "    </tr>\n",
       "    <tr>\n",
       "      <th>2150</th>\n",
       "      <td>Ghosts of young Princes</td>\n",
       "      <td></td>\n",
       "      <td>2151</td>\n",
       "      <td>none</td>\n",
       "    </tr>\n",
       "    <tr>\n",
       "      <th>2152</th>\n",
       "      <td>Ghost of BUCKINGHAM</td>\n",
       "      <td></td>\n",
       "      <td>2153</td>\n",
       "      <td>none</td>\n",
       "    </tr>\n",
       "    <tr>\n",
       "      <th>2750</th>\n",
       "      <td>\\nSAMPSON</td>\n",
       "      <td>\\nGregory, o' my word, we'll not carry coals.</td>\n",
       "      <td>2751</td>\n",
       "      <td>none</td>\n",
       "    </tr>\n",
       "    <tr>\n",
       "      <th>5704</th>\n",
       "      <td>\\nMARIANA</td>\n",
       "      <td>\\nBreak off thy song, and haste thee quick awa...</td>\n",
       "      <td>5705</td>\n",
       "      <td>none</td>\n",
       "    </tr>\n",
       "    <tr>\n",
       "      <th>6569</th>\n",
       "      <td>ALL SERVING-MEN</td>\n",
       "      <td>\\nHere, here, sir; here, sir.</td>\n",
       "      <td>6570</td>\n",
       "      <td>none</td>\n",
       "    </tr>\n",
       "  </tbody>\n",
       "</table>\n",
       "</div>"
      ],
      "text/plain": [
       "                      speaker  \\\n",
       "530              Senators, &C   \n",
       "538              Senators, &C   \n",
       "2142   Ghost of Prince Edward   \n",
       "2143   Ghost of King Henry VI   \n",
       "2150  Ghosts of young Princes   \n",
       "2152      Ghost of BUCKINGHAM   \n",
       "2750                \\nSAMPSON   \n",
       "5704                \\nMARIANA   \n",
       "6569          ALL SERVING-MEN   \n",
       "\n",
       "                                               dialogue  line_number  play  \n",
       "530                                 \\nWe'll surety him.          531  none  \n",
       "538   \\nWeapons, weapons, weapons!\\n'Tribunes!' 'Pat...          539  none  \n",
       "2142                                                            2143  none  \n",
       "2143                                                            2144  none  \n",
       "2150                                                            2151  none  \n",
       "2152                                                            2153  none  \n",
       "2750      \\nGregory, o' my word, we'll not carry coals.         2751  none  \n",
       "5704  \\nBreak off thy song, and haste thee quick awa...         5705  none  \n",
       "6569                      \\nHere, here, sir; here, sir.         6570  none  "
      ]
     },
     "execution_count": 18,
     "metadata": {},
     "output_type": "execute_result"
    }
   ],
   "source": [
    "# view rows where there was no match \n",
    "df[df['play'] == 'none']"
   ]
  },
  {
   "cell_type": "markdown",
   "id": "6435ebc6",
   "metadata": {},
   "source": [
    "Assumption: for speakers that were not found in the external dataset and for which there is no play information, the speaker is assumed to be in the same play as the previous speaker. In other words: for rows where there was not an exact match for a speaker, the preceding row will be used to obtain the play/source title. \n",
    "\n",
    "Limitation: if the play for the first observation was missing, this would have to be modified. "
   ]
  },
  {
   "cell_type": "code",
   "execution_count": 30,
   "id": "a0f26716",
   "metadata": {},
   "outputs": [
    {
     "name": "stderr",
     "output_type": "stream",
     "text": [
      "C:\\Users\\marya\\AppData\\Local\\Temp/ipykernel_15388/943838893.py:4: FutureWarning: The pandas.np module is deprecated and will be removed from pandas in a future version. Import numpy directly instead\n",
      "  df.loc[s, \"play\"] = pd.np.nan\n"
     ]
    },
    {
     "data": {
      "text/html": [
       "<div>\n",
       "<style scoped>\n",
       "    .dataframe tbody tr th:only-of-type {\n",
       "        vertical-align: middle;\n",
       "    }\n",
       "\n",
       "    .dataframe tbody tr th {\n",
       "        vertical-align: top;\n",
       "    }\n",
       "\n",
       "    .dataframe thead th {\n",
       "        text-align: right;\n",
       "    }\n",
       "</style>\n",
       "<table border=\"1\" class=\"dataframe\">\n",
       "  <thead>\n",
       "    <tr style=\"text-align: right;\">\n",
       "      <th></th>\n",
       "      <th>speaker</th>\n",
       "      <th>dialogue</th>\n",
       "      <th>line_number</th>\n",
       "      <th>play</th>\n",
       "    </tr>\n",
       "  </thead>\n",
       "  <tbody>\n",
       "  </tbody>\n",
       "</table>\n",
       "</div>"
      ],
      "text/plain": [
       "Empty DataFrame\n",
       "Columns: [speaker, dialogue, line_number, play]\n",
       "Index: []"
      ]
     },
     "execution_count": 30,
     "metadata": {},
     "output_type": "execute_result"
    }
   ],
   "source": [
    "# condition: select rows where no play was found\n",
    "# replace with play in the previous row\n",
    "s = df[\"play\"].eq(\"none\")\n",
    "df.loc[s, \"play\"] = pd.np.nan\n",
    "df[\"play\"].ffill(inplace=True)\n",
    "\n",
    "# check\n",
    "df[df['play'] == 'none']"
   ]
  },
  {
   "cell_type": "code",
   "execution_count": null,
   "id": "6e06713c",
   "metadata": {},
   "outputs": [],
   "source": []
  },
  {
   "cell_type": "markdown",
   "id": "2c11d66d",
   "metadata": {},
   "source": [
    "### Part 3\n",
    "\n",
    "Pick one or more of the techniques described in this chapter:\n",
    "\n",
    "- keyword frequency\n",
    "- entity relationships\n",
    "- markov language model\n",
    "- bag-of-words, TF-IDF\n",
    "- semantic embedding\n",
    "\n",
    "make a case for a technique to measure how important or interesting a speaker is. The measure does not have to be both important and interesting, and you are welcome to come up with another term that represents \"useful content\", or tells a story (happiest speaker, worst speaker, etc.)\n",
    "\n",
    "Whatever you choose, you must\n",
    "- document how your technique was applied\n",
    "- describe why you believe the technique is a valid approximation or exploration of how important, interesting, etc., a speaker is.\n",
    "- list some possible weaknesses of your method, or ways you expect your assumptions could be violated within the text.\n",
    "\n",
    "This is mostly about learning to transparently document your decisions, and iterate on a method for operationalizing useful analyses on text. Your explanations should be understandable; homeworks will be peer-reviewed by your fellow students"
   ]
  },
  {
   "cell_type": "code",
   "execution_count": null,
   "id": "fb421b99",
   "metadata": {},
   "outputs": [],
   "source": []
  },
  {
   "cell_type": "code",
   "execution_count": null,
   "id": "3521e7b9",
   "metadata": {},
   "outputs": [],
   "source": []
  }
 ],
 "metadata": {
  "kernelspec": {
   "display_name": "Python [conda env:test_env]",
   "language": "python",
   "name": "conda-env-test_env-py"
  },
  "language_info": {
   "codemirror_mode": {
    "name": "ipython",
    "version": 3
   },
   "file_extension": ".py",
   "mimetype": "text/x-python",
   "name": "python",
   "nbconvert_exporter": "python",
   "pygments_lexer": "ipython3",
   "version": "3.9.7"
  }
 },
 "nbformat": 4,
 "nbformat_minor": 5
}
